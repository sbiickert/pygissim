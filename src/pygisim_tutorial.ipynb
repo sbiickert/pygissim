{
 "cells": [
  {
   "cell_type": "markdown",
   "id": "5577cf49-0666-4167-b347-e9cc7dcc6c6e",
   "metadata": {},
   "source": [
    "# pygissim\n",
    "\n",
    "A Tutorial\n",
    "\n",
    "## What is pygissim?\n",
    "\n",
    "pygissim is a library for running performance simulations on distributed computer systems. The author works in the area of Geographic Information Systems (GIS) and so the focus here is on Web GIS systems, but the underlying engine is generic and could be used to model many different types of systems that have jobs that are passed from node to node and back to the caller.\n",
    "\n",
    "pygissim is in its early development, and so there may be need to inspect the code and see how it works. The API documentation is in /docs/_build/html/index.html\n",
    "\n",
    "The fundamental concept:\n",
    "1. Create (or load) a Design.\n",
    "2. Add the Design to a Simulator.\n",
    "3. Run the Simulator for a length of real-world time.\n",
    "4. Analyze the results.\n",
    "\n",
    "This tutorial will take you through each of these steps."
   ]
  },
  {
   "cell_type": "code",
   "execution_count": 1,
   "id": "10eb545d-5583-4e66-96d7-8f1fc34a85a1",
   "metadata": {},
   "outputs": [],
   "source": [
    "from pygissim.pygissim import *\n",
    "import pandas as pd\n",
    "import pygissim.nb as nb\n",
    "import matplotlib.pyplot as plt\n",
    "\n",
    "from yfiles_jupyter_graphs import GraphWidget\n",
    "from typing import Dict, Tuple"
   ]
  },
  {
   "cell_type": "code",
   "execution_count": null,
   "id": "d77149a9-e871-4ded-aa4f-c522ac30f892",
   "metadata": {},
   "outputs": [],
   "source": []
  }
 ],
 "metadata": {
  "kernelspec": {
   "display_name": "Python 3 (ipykernel)",
   "language": "python",
   "name": "python3"
  },
  "language_info": {
   "codemirror_mode": {
    "name": "ipython",
    "version": 3
   },
   "file_extension": ".py",
   "mimetype": "text/x-python",
   "name": "python",
   "nbconvert_exporter": "python",
   "pygments_lexer": "ipython3",
   "version": "3.12.11"
  }
 },
 "nbformat": 4,
 "nbformat_minor": 5
}
