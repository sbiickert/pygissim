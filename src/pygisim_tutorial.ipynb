{
 "cells": [
  {
   "cell_type": "markdown",
   "id": "5577cf49-0666-4167-b347-e9cc7dcc6c6e",
   "metadata": {},
   "source": [
    "# pygissim\n",
    "\n",
    "A Tutorial\n",
    "\n",
    "## What is pygissim?\n",
    "\n",
    "pygissim is a library for running performance simulations on distributed computer systems. The author works in the area of Geographic Information Systems (GIS) and so the focus here is on Web GIS systems, but the underlying engine is generic and could be used to model many different types of systems that have jobs that are passed from node to node and back to the caller.\n",
    "\n",
    "pygissim is in its early development, and so there may be need to inspect the code and see how it works. The API documentation is in /docs/_build/html/index.html\n",
    "\n",
    "The fundamental concept:\n",
    "1. Create (or load) a Design.\n",
    "2. Add the Design to a Simulator.\n",
    "3. Run the Simulator for a length of real-world time.\n",
    "4. Analyze the results.\n",
    "\n",
    "This tutorial will take you through each of these steps."
   ]
  },
  {
   "cell_type": "code",
   "execution_count": 1,
   "id": "10eb545d-5583-4e66-96d7-8f1fc34a85a1",
   "metadata": {},
   "outputs": [],
   "source": [
    "from pygissim.pygissim import *\n",
    "import pandas as pd\n",
    "import pygissim.nb as nb\n",
    "import pygissim.util as util\n",
    "import matplotlib.pyplot as plt\n",
    "\n",
    "from yfiles_jupyter_graphs import GraphWidget\n",
    "from typing import Dict, Tuple"
   ]
  },
  {
   "cell_type": "markdown",
   "id": "37773f35-6bf1-41da-a741-8f3cc5442bfa",
   "metadata": {},
   "source": [
    "## A Design\n",
    "\n",
    "A Design contains other collections of objects and has ways to access them:\n",
    "- Network zones\n",
    "- Network connections\n",
    "- Compute nodes\n",
    "- Service providers\n",
    "- Workflows"
   ]
  },
  {
   "cell_type": "code",
   "execution_count": 2,
   "id": "d263c4e1-dc90-4730-b22b-ae27da2e5acd",
   "metadata": {},
   "outputs": [],
   "source": [
    "d: Design = Design(name=\"My Design\", desc=\"An example\")"
   ]
  },
  {
   "cell_type": "markdown",
   "id": "16c8ed08-e7df-4547-83bd-5e19f42b9820",
   "metadata": {},
   "source": [
    "## A Network\n",
    "\n",
    "First, define network zones. They can be as simple as a single local network, or a web of zones that are interconnected. Zones do not have a specific bandwidth: bandwidth and latency are the job of Connections. A zone will have a local Connection, and Connections that connect it to other Zones."
   ]
  },
  {
   "cell_type": "code",
   "execution_count": 3,
   "id": "49721129-c26c-4e5d-b8bb-1cd21664579f",
   "metadata": {},
   "outputs": [],
   "source": [
    "lan: Zone = Zone(name=\"LAN\", desc=\"A local zone\", z_type=ZoneType.LOCAL)\n",
    "dmz: Zone = Zone(name=\"DMZ\", desc=\"The edge zone\", z_type=ZoneType.EDGE)"
   ]
  },
  {
   "attachments": {},
   "cell_type": "markdown",
   "id": "22936f4a-2446-499b-8eca-5983241de555",
   "metadata": {},
   "source": [
    "Now, let's connect them. Each Zone will have its local Connection and there is a Connection in each direction from lan to dmz and from dmz to lan.\n",
    "\n",
    "We can add the Zones and Connections to the Design"
   ]
  },
  {
   "cell_type": "code",
   "execution_count": 4,
   "id": "96749011-06a7-450e-8001-0623851545c1",
   "metadata": {},
   "outputs": [],
   "source": [
    "d.add_zone(lan, local_bw_mbps=1000, local_latency_ms=0)\n",
    "d.add_zone(dmz, local_bw_mbps=1000, local_latency_ms=0)\n",
    "\n",
    "# Note that the Connections need not be symmetrical\n",
    "d.add_connection(lan.connect(dmz, bw=350, lat=1))\n",
    "d.add_connection(dmz.connect(lan, bw=500, lat=1))"
   ]
  },
  {
   "cell_type": "markdown",
   "id": "a660b0b5-8ef8-4baf-acd9-80e416604253",
   "metadata": {},
   "source": [
    "Now, let's visualize the network."
   ]
  },
  {
   "cell_type": "code",
   "execution_count": 5,
   "id": "8ab540ca-de0e-4cd2-995a-a1375590315e",
   "metadata": {},
   "outputs": [
    {
     "data": {
      "application/vnd.jupyter.widget-view+json": {
       "model_id": "2a81001eab184303a221089ac3dd716a",
       "version_major": 2,
       "version_minor": 0
      },
      "text/plain": [
       "GraphWidget(layout=Layout(height='500px', width='100%'))"
      ]
     },
     "metadata": {},
     "output_type": "display_data"
    }
   ],
   "source": [
    "w:GraphWidget = nb.draw_network(d.zones, d.network)\n",
    "w.show()"
   ]
  },
  {
   "cell_type": "markdown",
   "id": "79ab8844-5af1-4bd9-8a08-a13ae78f133f",
   "metadata": {},
   "source": [
    "Note that each Zone is connected to itself (local connection) and has an incoming and outgoing Connection to the other Zone. This means the Zones are fully connected. Zones can connect in many different ways, including branching and looping.\n",
    "\n",
    "pygissim comes with some template networks. You can list them and load them as shown below."
   ]
  },
  {
   "cell_type": "code",
   "execution_count": 6,
   "id": "4ba89ce4-66a3-4bd0-95df-8557e6e2def0",
   "metadata": {},
   "outputs": [
    {
     "name": "stdout",
     "output_type": "stream",
     "text": [
      "['Local Only', 'Local and ArcGIS Online', 'Branch Offices', 'Cloudy', 'Backhaul Cloudy']\n"
     ]
    }
   ],
   "source": [
    "print(util.network_list)"
   ]
  },
  {
   "cell_type": "code",
   "execution_count": 7,
   "id": "343afb07-723c-4b78-96d4-8edfb4eaf4e1",
   "metadata": {},
   "outputs": [
    {
     "data": {
      "application/vnd.jupyter.widget-view+json": {
       "model_id": "cbb99371935f4e02b3c0c43cf273b644",
       "version_major": 2,
       "version_minor": 0
      },
      "text/plain": [
       "GraphWidget(layout=Layout(height='500px', width='100%'))"
      ]
     },
     "metadata": {},
     "output_type": "display_data"
    }
   ],
   "source": [
    "d.zones, d.network = util.load_network('Local and ArcGIS Online')\n",
    "w= nb.draw_network(d.zones, d.network)\n",
    "w.show()"
   ]
  },
  {
   "cell_type": "markdown",
   "id": "b7c68dc4-06d0-448b-a9c2-b0fb5d07e69e",
   "metadata": {},
   "source": [
    "### Knowledge Check\n",
    "1. How many Connections does the Local network Zone have? (Hint: entry, exit and internal)\n",
    "2. What is the bandwidth from the DMZ to the Internet?\n",
    "3. What is the bandwidth from the Internet to the DMZ?\n",
    "4. How many network Connections would a request have to traverse to go from Local to ArcGIS Online?"
   ]
  },
  {
   "cell_type": "markdown",
   "id": "c7ca7a18-615b-42df-a000-717d8f20eb84",
   "metadata": {},
   "source": [
    "## Adding Compute\n",
    "\n",
    "The building block for computation is the ComputeNode. They come in three types: clients, physical servers and virtual servers.\n",
    "\n",
    "**Clients** are abstract and represent a type of device (workstation PC, mobile device) and are used to calculate service times, but not capacity. In real life, every added client to the system scales up the client tier.\n",
    "\n",
    "**Physical servers** can either host software directly (see Service Providers) and/or be hosts for virtual servers.\n",
    "\n",
    "**Virtual servers** are hosted by physical servers and have an allocation of CPU and memory from their host. They are used as Service Providers.\n",
    "\n",
    "All ComputeNodes are located in a Zone.\n",
    "\n",
    "Every ComputeNode has a HardwareDefinition that describes their overall capacity and performance. You can create a HardwareDefinition, or load one of the ones provided by pygissim."
   ]
  },
  {
   "cell_type": "code",
   "execution_count": 8,
   "id": "de72b3a1-40a5-4b63-8b68-818a4f2ab597",
   "metadata": {},
   "outputs": [],
   "source": [
    "lan: Optional[Zone] = d.get_zone('Local')\n",
    "if lan is None: raise ValueError(\"Check that you have loaded one of the template networks with a 'Local' zone\")\n",
    "\n",
    "# Creating a Client \"by hand\"\n",
    "client_hw = HardwareDef(processor='Intel Core i7-4770K', \n",
    "                        cores=4, specint_rate2017=20, \n",
    "                        architecture=ComputeArchitecture.INTEL, \n",
    "                        threading=ThreadingModel.PHYSICAL)\n",
    "client = ComputeNode(name='Client PC', desc='Sample PC',\n",
    "                     hw_def=client_hw,\n",
    "                     memory_GB=16,\n",
    "                     zone=lan,\n",
    "                     type=ComputeNodeType.CLIENT)\n",
    "\n",
    "# Using the LibManager to create a server. Check src/pygissim/data/hardware.csv for all pre-made types\n",
    "lib = util.LibManager()\n",
    "lib.load_local()\n",
    "server_hw = lib.hardware['2018 Xeon Gold 6144']\n",
    "server = ComputeNode(name='Local Server', desc='Physical server',\n",
    "                     hw_def=server_hw,\n",
    "                     memory_GB=128,\n",
    "                     zone=lan,\n",
    "                     type=ComputeNodeType.P_SERVER)\n",
    "\n",
    "# Virtual machines hosted by the physical server\n",
    "server.add_virtual_host(name=\"VMWeb\", v_cores=4, memory_GB=8)\n",
    "server.add_virtual_host(name=\"VMGISA\", v_cores=4, memory_GB=16)\n",
    "server.add_virtual_host(name=\"VMGISB\", v_cores=4, memory_GB=16)\n",
    "server.add_virtual_host(name=\"VMDS\", v_cores=4, memory_GB=16)\n",
    "server.add_virtual_host(name=\"VMSQL\", v_cores=4, memory_GB=16)\n",
    "server.add_virtual_host(name=\"VMFile\", v_cores=4, memory_GB=16)\n",
    "\n",
    "d.add_compute(client)\n",
    "d.add_compute(server)\n",
    "\n",
    "# Some compute power for ArcGIS Online\n",
    "agol: Optional[Zone] = d.get_zone('ArcGIS Online');\n",
    "if agol is None: raise ValueError(\"Check that you have loaded one of the template networks with a 'ArcGIS Online' zone\")\n",
    "\n",
    "agol_hw = lib.hardware['AMI db.r3.8xlarge (32vc)']\n",
    "for i in range(1, 4):\n",
    "    d.add_compute(ComputeNode(f'AGOL{i}','', agol_hw, 128, zone=agol, type=ComputeNodeType.P_SERVER))"
   ]
  },
  {
   "cell_type": "markdown",
   "id": "10866f3e-a80d-41d1-b7c7-9be9f6331624",
   "metadata": {},
   "source": [
    "Let's visualize the hardware as it relates to the network.\n",
    "- Orange circles are Zones.\n",
    "    - In this example, only the Local and ArcGIS Online Zones have ComputeNodes, so Internet and DMZ are unconnected (this isn't a network connectivity graph).\n",
    "    - The Client PC and local server are in the Local Zone.\n",
    "    - The AWS servers are in the ArcGIS Online Zone.\n",
    "- The local physical has several hosted virtual servers."
   ]
  },
  {
   "cell_type": "code",
   "execution_count": 9,
   "id": "680b7e1b-da5a-438b-9a3e-6f19915f5483",
   "metadata": {},
   "outputs": [
    {
     "data": {
      "application/vnd.jupyter.widget-view+json": {
       "model_id": "23bf44d634724b4ea0a3942419b381bf",
       "version_major": 2,
       "version_minor": 0
      },
      "text/plain": [
       "GraphWidget(layout=Layout(height='650px', width='100%'))"
      ]
     },
     "metadata": {},
     "output_type": "display_data"
    }
   ],
   "source": [
    "w = nb.draw_zone_compute(d)\n",
    "w.graph_layout = \"organic\"\n",
    "w.show()"
   ]
  },
  {
   "cell_type": "markdown",
   "id": "02fd0c5f-567a-4c30-88b9-5cf5c0a9cb3e",
   "metadata": {},
   "source": [
    "### Knowledge Check\n",
    "\n",
    "1. How many virtual machines are hosted by the Local Server?\n",
    "2. What Zone is the Client PC in?\n",
    "3. How many physical ComputeNodes are in the ArcGIS Online Zone?\n",
    "4. How many ComputeNodes are in the DMZ?"
   ]
  },
  {
   "cell_type": "markdown",
   "id": "0b8034d3-8c67-4f4a-9f4e-b36f3039dfd7",
   "metadata": {},
   "source": [
    "## Service Providers\n",
    "\n",
    "Having ComputeNodes is useful, but until they are identified as a ServiceProvider, they won't do anything. Service types are simply a tag that represents a type of service being provided so that when a Workflow Definition says \"portal\", the system will know what ComputeNodes handle that type.\n",
    "\n",
    "The types of services known by pygissim are defined in src/pygissim/data/services.csv"
   ]
  },
  {
   "cell_type": "code",
   "execution_count": 10,
   "id": "92e92732-d3b0-4cd8-81ae-40bbc61ecd92",
   "metadata": {},
   "outputs": [],
   "source": [
    "d.services = lib.service_definitions\n",
    "nb.create_service_provider(d, \"Web Browser\", service=\"browser\", node_names=['Client PC'])\n",
    "nb.create_service_provider(d, \"Pro Workstation\", service=\"pro\", node_names=['Client PC'])\n",
    "nb.create_service_provider(d, \"IIS\", service=\"web\", node_names=[\"VMWeb\"])\n",
    "nb.create_service_provider(d, \"Portal\", service=\"portal\", node_names=[\"VMWeb\"])\n",
    "nb.create_service_provider(d, \"Map Server\", service=\"map\", node_names=[\"VMGISA\", \"VMGISB\"])\n",
    "nb.create_service_provider(d, \"Hosting Server\", service=\"feature\", node_names=[\"VMGISA\", \"VMGISB\"])\n",
    "nb.create_service_provider(d, \"Data Store\", service=\"relational\", node_names=[\"VMDS\"])\n",
    "nb.create_service_provider(d, \"SQL Server\", service=\"dbms\", node_names=[\"VMSQL\"])\n",
    "nb.create_service_provider(d, \"File Server\", service=\"file\", node_names=[\"VMFile\"])\n",
    "\n",
    "# ArcGIS Online has a helper function to set up\n",
    "nb.create_agol_service_providers(d, \"ArcGIS Online\")"
   ]
  },
  {
   "cell_type": "markdown",
   "id": "28f81efa-2598-4a87-a9d7-20851610d1a0",
   "metadata": {},
   "source": [
    "To help visualize the relationships between ComputeNodes and ServiceProviders, let's draw them.\n",
    "\n",
    "Hint: hover over the circles, and try playing with the different graph layouts.\n",
    "\n",
    "- The gray circles are ServiceProviders.\n",
    "    - In ArcGIS Online, three physical servers are sharing all of the ServiceProvider duties.\n",
    "    - Locally, there is a division of Service types to individual virtual hosts.\n",
    "    - The Hosting Server and Map Server have two load balanced virtual hosts, VMGISA and VMGISB."
   ]
  },
  {
   "cell_type": "code",
   "execution_count": 11,
   "id": "4174ffd5-bbda-4fc4-966d-567bd8c188b9",
   "metadata": {},
   "outputs": [
    {
     "data": {
      "application/vnd.jupyter.widget-view+json": {
       "model_id": "3268f37b8e954c02b314486512ef6109",
       "version_major": 2,
       "version_minor": 0
      },
      "text/plain": [
       "GraphWidget(layout=Layout(height='760px', width='100%'))"
      ]
     },
     "metadata": {},
     "output_type": "display_data"
    }
   ],
   "source": [
    "# nb.compute_to_graph(d.compute_nodes())\n",
    "w = nb.draw_compute_sp(d)\n",
    "w.show()"
   ]
  },
  {
   "cell_type": "markdown",
   "id": "ad6d7d00-05bf-45d0-bfff-423950779f68",
   "metadata": {},
   "source": [
    "### Knowledge Check\n",
    "\n",
    "1. What ComputeNode is assigned the \"Data Store\" service?\n",
    "2. What services does the Client PC provide?"
   ]
  },
  {
   "cell_type": "markdown",
   "id": "a6c7fd1c-057e-4500-a4bf-799459f83bef",
   "metadata": {},
   "source": [
    "## Workflows\n",
    "\n",
    "Here's where the work happens. We need to define work being done by the system and how often it's happening.\n",
    "\n",
    "As an example, if a user is working with ArcGIS Field Maps, they might have a Web Map loaded that has two layers in it, a base map and an overlay of points. The base map is an example of a cached **map** service and the overlay is an example of a **feature** service.\n",
    "\n",
    "Making a cached **map** service request will start a chain of operations, with the request going first to the Web Adaptor, then the Portal, GIS Server, and then the File Server to get the tile(s). Then the result is passed up the chain and back to the mobile device. Each hop along the chain might need to traverse one or more network connections.\n",
    "\n",
    "Setting up workflows \"by hand\" is a fair bit of code, so using the predefined ones in the library is useful."
   ]
  },
  {
   "cell_type": "code",
   "execution_count": 12,
   "id": "f018a8ed-fd3e-47a2-884d-a6d698f368a2",
   "metadata": {},
   "outputs": [],
   "source": [
    "mobile_wf_def: WorkflowDef = lib.workflow_definitions['Mobile Data Collection']\n",
    "mobile: Workflow = Workflow('Mobile Workflow', '', type=WorkflowType.USER, definition=mobile_wf_def, user_count=10, productivity=4)"
   ]
  },
  {
   "cell_type": "markdown",
   "id": "11ec2c3a-82f9-4913-81b6-8530496c5bb3",
   "metadata": {},
   "source": [
    "This pre-fab workflow definition sets up two operations that happen when the mobile user makes a request:\n",
    "1. The mobile web feature layer and\n",
    "2. The cached base map\n",
    "\n",
    "These two \"chains\" of operations (WorkflowChain) can be completely divergent, accessing different servers and traversing different networks to solve the request. This complexity allows pygissim to simulate the parallel requests that are the norm for modern web maps. In this case, the requests are similar until they diverge, with one request going to a hosting server for feature data and the other going to a map service and getting map tiles."
   ]
  },
  {
   "cell_type": "code",
   "execution_count": 13,
   "id": "5ae22c96-8f43-4abd-ace5-e5ae4c86eda0",
   "metadata": {},
   "outputs": [
    {
     "data": {
      "application/vnd.jupyter.widget-view+json": {
       "model_id": "a8a7a8eccdee439dbb9f86426d74de4c",
       "version_major": 2,
       "version_minor": 0
      },
      "text/plain": [
       "GraphWidget(layout=Layout(height='640px', width='100%'))"
      ]
     },
     "metadata": {},
     "output_type": "display_data"
    }
   ],
   "source": [
    "w = nb.draw_workflows([mobile])\n",
    "w.show()"
   ]
  }
 ],
 "metadata": {
  "kernelspec": {
   "display_name": "Python 3 (ipykernel)",
   "language": "python",
   "name": "python3"
  },
  "language_info": {
   "codemirror_mode": {
    "name": "ipython",
    "version": 3
   },
   "file_extension": ".py",
   "mimetype": "text/x-python",
   "name": "python",
   "nbconvert_exporter": "python",
   "pygments_lexer": "ipython3",
   "version": "3.12.11"
  }
 },
 "nbformat": 4,
 "nbformat_minor": 5
}
